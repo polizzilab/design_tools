{
  "nbformat": 4,
  "nbformat_minor": 0,
  "metadata": {
    "accelerator": "GPU",
    "colab": {
      "name": "loop_inpainting.ipynb",
      "provenance": [],
      "collapsed_sections": [],
      "include_colab_link": true
    },
    "kernelspec": {
      "display_name": "Python 3 (ipykernel)",
      "language": "python",
      "name": "python3"
    },
    "language_info": {
      "codemirror_mode": {
        "name": "ipython",
        "version": 3
      },
      "file_extension": ".py",
      "mimetype": "text/x-python",
      "name": "python",
      "nbconvert_exporter": "python",
      "pygments_lexer": "ipython3",
      "version": "3.8.10"
    }
  },
  "cells": [
    {
      "cell_type": "markdown",
      "metadata": {
        "id": "view-in-github",
        "colab_type": "text"
      },
      "source": [
        "<a href=\"https://colab.research.google.com/github/polizzilab/design_tools/blob/main/loop_inpainting.ipynb\" target=\"_parent\"><img src=\"https://colab.research.google.com/assets/colab-badge.svg\" alt=\"Open In Colab\"/></a>"
      ]
    },
    {
      "cell_type": "markdown",
      "metadata": {
        "id": "G4yBrceuFbf3"
      },
      "source": [
        "\n",
        "##ColabPaint: Inpainting loops using RFDesign\n",
        "\n",
        "Easy to use protein looping / inpainting using [RFDesign](https://www.science.org/doi/abs/10.1126/science.abn2100?af=R). "
      ]
    },
    {
      "cell_type": "code",
      "source": [
        "#@title Input protein \"contigs\" and loop lengths, then hit `Runtime` -> `Run all`\n",
        "import os\n",
        "from google.colab import files\n",
        "import hashlib\n",
        "import re\n",
        "\n",
        "def add_hash(x,y):\n",
        "  return x+\"_\"+hashlib.sha1(y.encode()).hexdigest()[:5]\n",
        "\n",
        "jobname = 'test' #@param {type:\"string\"}\n",
        "jobname.replace('.', '-')\n",
        "# remove whitespaces\n",
        "basejobname = \"\".join(jobname.split())\n",
        "basejobname = re.sub(r'\\W+', '', basejobname)\n",
        "jobname = add_hash(basejobname, basejobname)\n",
        "\n",
        "contigs = 'A1-27,A33-60,A67-93,A101-126' #@param {type:\"string\"}\n",
        "loop_lengths = '2-9,2-9,2-9' #@param {type:\"string\"}\n",
        "# contigs='A1-45,3-9,A55-75,4-8,A84-126'\n",
        "do_global_loop_search = True #@param {type:\"boolean\"}\n",
        "\n",
        "os.chdir('/content/')\n",
        "\n",
        "contigs = contigs.replace(' ','').split(',')\n",
        "loop_ranges = loop_lengths.replace(' ','').split(',')\n",
        "\n",
        "#@markdown You will be prompted to upload a PDB file to continue.\n",
        "custom_template_path = f\"{jobname}_template/\"\n",
        "if not os.path.exists(custom_template_path):\n",
        "  os.mkdir(custom_template_path)\n",
        "uploaded = files.upload()\n",
        "for fn in uploaded.keys():\n",
        "  os.rename(fn, f\"{jobname}_template/{fn}\")\n",
        "pdbname = fn.split('.')[0]\n",
        "\n"
      ],
      "metadata": {
        "id": "3LIPQldWE89c",
        "cellView": "form"
      },
      "execution_count": null,
      "outputs": []
    },
    {
      "cell_type": "code",
      "source": [
        "#@title Make job files\n",
        "def make_job_file(contigs, loop_sizes, outdir):\n",
        "  if outdir[-1] != '/':\n",
        "    outdir += '/'\n",
        "  len_contigs = len(contigs)\n",
        "\n",
        "  contig_str = ''\n",
        "  for i in range(len_contigs - 1):\n",
        "    contig_str += contigs[i]\n",
        "    contig_str += ','\n",
        "    contig_str += loop_sizes[i]\n",
        "    contig_str += ','\n",
        "  contig_str += contigs[-1]\n",
        "  outname_suffix = '_'.join(contig_str.split(','))\n",
        "  outname = outdir + pdbname + '_' + outname_suffix\n",
        "\n",
        "  with open(f'{outname}.sh', 'w') as jobfile:\n",
        "    jobfile.write('#!/bin/bash \\n')\n",
        "    pdbpath = custom_template_path + pdbname\n",
        "    jobfile.write(f\"pdb='{pdbpath}.pdb' \\n\")\n",
        "    jobfile.write(f\"contigs='{contig_str}' \\n\")\n",
        "    jobfile.write(f\"out='{outname}' \\n\")\n",
        "    jobfile.write('num_designs=1 \\n')\n",
        "    jobfile.write('tmpl_conf=0.75 \\n')\n",
        "    script = \"script='/content/RFDesign/inpainting/inpaint.py' \\n\"\n",
        "    jobfile.write(script)\n",
        "    jobfile.write('mkdir -p `dirname $out` \\n')\n",
        "    jobfile.write('python $script --pdb $pdb --contigs $contigs --dump_trb --dump_pdb --n_cycle 20 --out $out --num_designs $num_designs --tmpl_conf $tmpl_conf \\n')\n",
        "\n",
        "local_loop_path = custom_template_path + 'local_loops/'\n",
        "if not os.path.exists(local_loop_path):\n",
        "  os.mkdir(local_loop_path)\n",
        "\n",
        "for i in range(len(loop_ranges)):\n",
        "  local_contigs = contigs[i:i+2]\n",
        "  loop_start, loop_stop = loop_ranges[i].split('-')\n",
        "  loop_start = int(loop_start)\n",
        "  loop_stop = int(loop_stop)\n",
        "  for j in range(loop_start, loop_stop + 1):\n",
        "    make_job_file(local_contigs, [str(j)], local_loop_path)\n"
      ],
      "metadata": {
        "id": "66OfXwJkaTWc",
        "cellView": "form"
      },
      "execution_count": null,
      "outputs": []
    },
    {
      "cell_type": "code",
      "source": [
        "#@title Make minimal environment file\n",
        "\n",
        "with open('env.yml', 'w') as envfile:\n",
        "  envfile.write(\n",
        "      \"\"\"\n",
        "  name: SE3-nvidia \\n\n",
        "  channels: \\n\n",
        "    - rusty1s \\n\n",
        "    - pytorch \\n\n",
        "    - dglteam \\n\n",
        "    - nvidia \\n\n",
        "    - conda-forge \\n\n",
        "    - defaults \\n\n",
        "  dependencies: \\n\n",
        "    - cudatoolkit=11.1.74=h6bb024c_0 \\n\n",
        "    - numpy=1.20.3=py39hf144106_0 \\n\n",
        "    - numpy-base=1.20.3=py39h74d4b33_0 \\n\n",
        "    - pip=21.2.4=pyhd8ed1ab_0 \\n\n",
        "    - dgl-cuda11.1=0.8.2=py39_0 \\n\n",
        "    - psutil=5.9.0=py39hb9d737c_1 \\n\n",
        "    - python=3.9.6=h49503c6_1_cpython \\n\n",
        "    - pytorch=1.9.0=py3.9_cuda11.1_cudnn8.0.5_0 \\n\n",
        "    - pytorch-cluster=1.5.9=py39_torch_1.9.0_cu111 \\n\n",
        "    - pytorch-geometric=1.7.2=py39_torch_1.9.0_cu111 \\n\n",
        "    - pytorch-scatter=2.0.8=py39_torch_1.9.0_cu111 \\n\n",
        "    - pytorch-sparse=0.6.11=py39_torch_1.9.0_cu111 \\n\n",
        "    - pytorch-spline-conv=1.2.1=py39_torch_1.9.0_cu111 \\n\n",
        "    - requests=2.26.0=pyhd8ed1ab_0 \\n\n",
        "    - requests-unixsocket=0.2.0=py_0 \\n\n",
        "    - scikit-learn=0.24.2=py39ha9443f7_0 \\n\n",
        "    - scipy=1.6.2=py39had2a1c9_1 \\n\n",
        "    - pip: \\n\n",
        "      - icecream==2.1.1 \\n\n",
        "      - lie-learn==0.0.1.post1 \\n\n",
        "      - opt-einsum==3.3.0 \\n\n",
        "      - e3nn==0.3.4 \\n\n",
        "  prefix: ./SE3-nvidia \\n\n",
        "  \"\"\"\n",
        "  )"
      ],
      "metadata": {
        "cellView": "form",
        "id": "oPchXT7etSDp"
      },
      "execution_count": null,
      "outputs": []
    },
    {
      "cell_type": "code",
      "metadata": {
        "id": "iccGdbe_Pmt9",
        "pycharm": {
          "name": "#%%\n"
        },
        "cellView": "form"
      },
      "source": [
        "#@title Install dependencies\n",
        "#@markdown This may take 10-15 min but only needs to be done once per session. \n",
        "#@markdown The notebook will skip over this part if run again. \n",
        "%%bash -s \n",
        "\n",
        "set -e\n",
        "\n",
        "if [ ! -f RFDES_READY ]; then\n",
        "  echo \"Cloning RFDesign...\"\n",
        "  git clone https://github.com/RosettaCommons/RFDesign.git\n",
        "  touch RFDES_READY\n",
        "fi\n",
        "\n",
        "# setup conda\n",
        "if [ ! -f CONDA_READY ]; then\n",
        "  echo \"Installing Conda...\"\n",
        "  wget -qnc https://repo.anaconda.com/miniconda/Miniconda3-latest-Linux-x86_64.sh\n",
        "  bash Miniconda3-latest-Linux-x86_64.sh -bfp /usr/local 2>&1 1>/dev/null\n",
        "  rm Miniconda3-latest-Linux-x86_64.sh\n",
        "  touch CONDA_READY\n",
        "fi\n",
        "\n",
        "if [ ! -f ENV_READY ]; then\n",
        "  echo \"Creating Conda SE3-nvidia environment for RFDesign\"\n",
        "  conda env create -f /content/env.yml 2>&1 1>/dev/null\n",
        "  touch ENV_READY\n",
        "fi\n",
        "\n",
        "if [ ! -f BFF_WEIGHTS ]; then\n",
        "  echo \"Downloading BFF_mix_epoch25 weights...\"\n",
        "  wget http://files.ipd.uw.edu/pub/rfdesign/weights/BFF_mix_epoch25.pt >> /dev/null 2>&1  \n",
        "  mkdir /content/RFDesign/inpainting/weights/\n",
        "  mv /content/BFF_mix_epoch25.pt /content/RFDesign/inpainting/weights/BFF_mix_epoch25.pt\n",
        "  touch BFF_WEIGHTS\n",
        "fi\n"
      ],
      "execution_count": null,
      "outputs": []
    },
    {
      "cell_type": "code",
      "source": [
        "#@title Run inpainting tests\n",
        "#@markdown Test to see if installation was successful. Should end with \"Successfully wrote output\".\n",
        "%%bash -s\n",
        "\n",
        "if [ ! -f TEST_READY ]; then\n",
        "  echo \"Running inpainting tests...\"\n",
        "  source activate SE3-nvidia\n",
        "  cd /content/RFDesign/inpainting/tests/\n",
        "  conda init bash >> /dev/null 2>&1\n",
        "  conda activate SE3-nvidia\n",
        "  ./run_tests.sh\n",
        "  touch /content/TEST_READY\n",
        "fi"
      ],
      "metadata": {
        "id": "tWY39aJG8fPB",
        "cellView": "form"
      },
      "execution_count": null,
      "outputs": []
    },
    {
      "cell_type": "code",
      "source": [
        "#@title Run local loop inpainting\n",
        "%%bash -s $local_loop_path\n",
        "\n",
        "LOCAL_LOOP_PATH=$1\n",
        "\n",
        "source activate SE3-nvidia \n",
        "conda init bash >> /dev/null 2>&1\n",
        "conda activate SE3-nvidia\n",
        "\n",
        "for file in $LOCAL_LOOP_PATH*.sh; do\n",
        "    chmod +x $file\n",
        "    $file < /dev/null\n",
        "done < /dev/null\n"
      ],
      "metadata": {
        "id": "Nij5wOOEmedZ",
        "cellView": "form"
      },
      "execution_count": null,
      "outputs": []
    },
    {
      "cell_type": "code",
      "source": [
        "#@title Get top N inpainted local loops by mean LDDT\n",
        "topN = 3 #@param {type:\"integer\"}\n",
        "import numpy as np\n",
        "from collections import defaultdict\n",
        "loop_dict = defaultdict(list)\n",
        "for trb_file in os.listdir(local_loop_path):\n",
        "  if trb_file.split('.')[-1] != 'trb':\n",
        "    continue\n",
        "  loop_info = trb_file.split('.')[0].split('_')\n",
        "  loop_ends = (loop_info[1], loop_info[3])\n",
        "  loop_size = loop_info[2]\n",
        "  trb = np.load(local_loop_path + trb_file, allow_pickle=True)\n",
        "  mean_lddt = np.array(trb['inpaint_lddt']).mean()\n",
        "  loop_dict[loop_ends].append((mean_lddt, loop_size))\n",
        "\n",
        "sorted_loop_dict = defaultdict(set)\n",
        "best_loop_dict = dict()\n",
        "for loop_ends, mean_lddts in loop_dict.items():\n",
        "  sorted_loops = sorted(mean_lddts, reverse=True)[:topN]\n",
        "  best_loop_dict[loop_ends] = [sorted_loops[0][-1]]\n",
        "  for loop in sorted_loops:\n",
        "    sorted_loop_dict[loop_ends].add(loop[-1])\n"
      ],
      "metadata": {
        "id": "zJWlIVeVCTFT",
        "cellView": "form"
      },
      "execution_count": null,
      "outputs": []
    },
    {
      "cell_type": "code",
      "source": [
        "#@title Make global loop-finding job files\n",
        "def make_job_file(contigs, loop_sizes, outdir):\n",
        "  if outdir[-1] != '/':\n",
        "    outdir += '/'\n",
        "  len_contigs = len(contigs)\n",
        "\n",
        "  contig_str = ''\n",
        "  for i in range(len_contigs - 1):\n",
        "    contig_str += contigs[i]\n",
        "    contig_str += ','\n",
        "    contig_str += loop_sizes[i]\n",
        "    contig_str += ','\n",
        "  contig_str += contigs[-1]\n",
        "  outname_suffix = '_'.join(contig_str.split(','))\n",
        "  outname = outdir + pdbname + '_' + outname_suffix\n",
        "\n",
        "  with open(f'{outname}.sh', 'w') as jobfile:\n",
        "    jobfile.write('#!/bin/bash \\n')\n",
        "    pdbpath = custom_template_path + pdbname\n",
        "    jobfile.write(f\"pdb='{pdbpath}.pdb' \\n\")\n",
        "    jobfile.write(f\"contigs='{contig_str}' \\n\")\n",
        "    jobfile.write(f\"out='{outname}' \\n\")\n",
        "    jobfile.write('num_designs=1 \\n')\n",
        "    jobfile.write('tmpl_conf=0.75 \\n')\n",
        "    script = \"script='/content/RFDesign/inpainting/inpaint.py' \\n\"\n",
        "    jobfile.write(script)\n",
        "    jobfile.write('mkdir -p `dirname $out` \\n')\n",
        "    jobfile.write('python $script --pdb $pdb --contigs $contigs --dump_trb --dump_pdb --n_cycle 20 --out $out --num_designs $num_designs --tmpl_conf $tmpl_conf \\n')\n",
        "\n",
        "global_loop_path = custom_template_path + 'global_loops/'\n",
        "if not os.path.exists(global_loop_path):\n",
        "  os.mkdir(global_loop_path)\n",
        "\n",
        "if do_global_loop_search:\n",
        "  loop_dict = sorted_loop_dict\n",
        "else:\n",
        "  loop_dict = best_loop_dict\n",
        "\n",
        "from itertools import product\n",
        "sorted_contigs = sorted(loop_dict.keys())\n",
        "sorted_contigs_ = sorted({v for k in sorted_contigs for v in k})\n",
        "contigs_tuples = []\n",
        "for sc in sorted_contigs_:\n",
        "  chain = sc[0]\n",
        "  first_resnum = int(sc[1:].split('-')[0])\n",
        "  contigs_tuples.append((chain, first_resnum))\n",
        "sorted_contigs_indices = sorted(range(len(sorted_contigs_)), key=lambda x: contigs_tuples[x])\n",
        "sorted_contigs_ = [sorted_contigs_[i] for i in sorted_contigs_indices]\n",
        "\n",
        "sorted_loop_pairs = list(product(*[loop_dict[(sorted_contigs_[i], sorted_contigs_[i+1])] for i in range(len(sorted_contigs_)-1)]))\n",
        "for sorted_loop_pair in sorted_loop_pairs:\n",
        "  make_job_file(sorted_contigs_, sorted_loop_pair, global_loop_path)"
      ],
      "metadata": {
        "id": "sCrimsPMSEbq",
        "cellView": "form"
      },
      "execution_count": null,
      "outputs": []
    },
    {
      "cell_type": "code",
      "source": [
        "#@title Run global loop inpainting\n",
        "%%bash -s $global_loop_path\n",
        "\n",
        "GLOBAL_LOOP_PATH=$1\n",
        "\n",
        "source activate SE3-nvidia \n",
        "conda init bash >> /dev/null 2>&1\n",
        "conda activate SE3-nvidia\n",
        "\n",
        "for file in $GLOBAL_LOOP_PATH*.sh; do\n",
        "    chmod +x $file\n",
        "    $file \n",
        "done \n",
        "\n"
      ],
      "metadata": {
        "cellView": "form",
        "id": "UCYgo7u7GtJJ"
      },
      "execution_count": null,
      "outputs": []
    },
    {
      "cell_type": "code",
      "source": [
        "#@title Get top N inpainted global loops by mean LDDT\n",
        "topN = 3 #@param {type:\"integer\"}\n",
        "mean_lddts = []\n",
        "for trb_file in os.listdir(global_loop_path):\n",
        "  if trb_file.split('.')[-1] != 'trb':\n",
        "    continue\n",
        "  trb = np.load(global_loop_path + trb_file, allow_pickle=True)\n",
        "  mean_lddt = np.array(trb['inpaint_lddt']).mean()\n",
        "  mean_lddts.append((mean_lddt, trb_file))\n",
        "\n",
        "sorted_loops = sorted(mean_lddts, reverse=True)[:topN]\n",
        "\n",
        "output_loop_path = custom_template_path + 'output/'\n",
        "if not os.path.exists(output_loop_path):\n",
        "  os.mkdir(output_loop_path)\n",
        "\n",
        "import shutil\n",
        "for i, loopfile in enumerate(sorted_loops):\n",
        "  pdbname_ = loopfile[-1].split('.')[0]\n",
        "  pdb = pdbname_ + '.pdb'\n",
        "  pdbpath = global_loop_path + pdb\n",
        "  dst = output_loop_path + pdbname_ + '_rank_' + str(i + 1) + '_' + str(np.round(loopfile[0], 4)) + '.pdb'\n",
        "  shutil.copyfile(pdbpath, dst)\n"
      ],
      "metadata": {
        "id": "SbA_6qSzEGqW",
        "cellView": "form"
      },
      "execution_count": null,
      "outputs": []
    },
    {
      "cell_type": "code",
      "metadata": {
        "id": "33g5IIegij5R",
        "cellView": "form"
      },
      "source": [
        "#@title Package and download results\n",
        "#@markdown If you are having issues downloading the result archive, try disabling your adblocker and run this cell again. If that fails click on the little folder icon to the left, navigate to file: `jobname.result.zip`, right-click and select \\\"Download\\\" (see [screenshot](https://pbs.twimg.com/media/E6wRW2lWUAEOuoe?format=jpg&name=small)).\n",
        "!cp $global_loop_path\"FLAGS.txt\" $custom_template_path\"output/\"\n",
        "!zip -FSr $jobname\".result.zip\" $custom_template_path\"output\"\n",
        "files.download(f\"{jobname}.result.zip\")\n"
      ],
      "execution_count": null,
      "outputs": []
    },
    {
      "cell_type": "markdown",
      "metadata": {
        "id": "UGUBLzB3C6WN",
        "pycharm": {
          "name": "#%% md\n"
        }
      },
      "source": [
        "# Instructions <a name=\"Instructions\"></a>\n",
        "**Quick start**\n",
        "1. Paste your protein sequence(s) in the input field. Uncheck \"do_global_loop_search\" if you want the best local loop solution only (faster).\n",
        "2. Press \"Runtime\" -> \"Run all\".\n",
        "\n",
        "**Result zip file contents**\n",
        "\n",
        "1. PDB formatted structures sorted by avg. pLDDT of loops. File names include the rank (lower is better) and avg. pLDDT (higher is better), averaged over all inpainted loops. \n",
        "\n",
        "2. FLAGS.txt file with input parameters from the global loop search.\n",
        "\n",
        "At the end of the job a download modal box will pop up with a `jobname.result.zip` file. Note that this protocol is not extensively tested. It might break for your protein. Use at own risk!\n",
        "\n",
        "**Notes about the protocol**\n",
        "\n",
        "- From my limited playing around with the code, I found that searching for all  loops at once gave different answers (at least wrt sequence) than searching for loops one at a time. Doing \"local\" loop inpainting should provide information on what loop lengths are feasible, which we can use to avoid combinatorial explosion of loop lengths. For example, if we had 3 loops and wanted to vary loop length from 3-13 for each loop, that would be 10 * 10 * 10 combinations. Some of those loop lengths won't be good “local” solutions anyway (low avg. LDDT), so we can discard them. But first we must compute the “local loop solutions” in order to rank them. Then we can take the top N from each local inpainting (N=3 is default); so instead of 10 * 10 * 10 combos we have N * N * N. If N = 2 or 3 then the computation is much more tractable. \n",
        "- One could also choose to ignore these combinatorics altogether by deselecting `do_global_loop_search` at the top of the notebook, which will result in outputing the best \"local loop solution\" for each loop by setting the loop lengths of one inpainting job to the best local loop lengths.\n",
        "\n"
      ]
    }
  ]
}